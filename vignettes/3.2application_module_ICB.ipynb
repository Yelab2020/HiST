{
 "cells": [
  {
   "cell_type": "markdown",
   "metadata": {},
   "source": [
    "# 3.Application module"
   ]
  },
  {
   "cell_type": "markdown",
   "metadata": {},
   "source": [
    "In this notebook, we demonstrate how to train immunotherapy response models using HiST application module based on spatial gene profiles predicted by HiST prediction module.\n",
    "\n",
    "xx refers to the directory created by the function based on the date"
   ]
  },
  {
   "cell_type": "markdown",
   "metadata": {},
   "source": [
    "Note: This part is bulit based on the HCC immunotherapy response HE data from OMIX of NGDC with accession ID: OMIX009369"
   ]
  },
  {
   "cell_type": "markdown",
   "metadata": {},
   "source": [
    "## Import"
   ]
  },
  {
   "cell_type": "code",
   "execution_count": null,
   "metadata": {},
   "outputs": [],
   "source": [
    "import os\n",
    "import sys\n",
    "import glob\n",
    "sys.path.append('../src/')\n",
    "import pickle\n",
    "import numpy as np\n",
    "import pandas as pd\n",
    "import PIL.Image as Image\n",
    "from datetime import date\n",
    "from util.predict import *\n",
    "from util.cluster import *\n",
    "from util.survival_plot import *\n",
    "from util.seed import seed_torch\n",
    "from util.patch import tile_HE, reconstruct\n",
    "from ApplicationModule.solver import ICB_Solver\n",
    "from FeatureExtraction.feature import extract_features, load_features\n",
    "\n",
    "\n",
    "seed = 42\n",
    "seed_torch(seed)\n",
    "Image.MAX_IMAGE_PIXELS = 100000000000"
   ]
  },
  {
   "cell_type": "code",
   "execution_count": null,
   "metadata": {},
   "outputs": [],
   "source": [
    "gene_list = list(pd.read_csv('../resource/HCC_SVG448_list.txt',header=None).iloc[:,0])"
   ]
  },
  {
   "cell_type": "markdown",
   "metadata": {},
   "source": [
    "## Preprocess metadata"
   ]
  },
  {
   "cell_type": "code",
   "execution_count": 8,
   "metadata": {},
   "outputs": [
    {
     "data": {
      "text/html": [
       "<div>\n",
       "<style scoped>\n",
       "    .dataframe tbody tr th:only-of-type {\n",
       "        vertical-align: middle;\n",
       "    }\n",
       "\n",
       "    .dataframe tbody tr th {\n",
       "        vertical-align: top;\n",
       "    }\n",
       "\n",
       "    .dataframe thead th {\n",
       "        text-align: right;\n",
       "    }\n",
       "</style>\n",
       "<table border=\"1\" class=\"dataframe\">\n",
       "  <thead>\n",
       "    <tr style=\"text-align: right;\">\n",
       "      <th></th>\n",
       "      <th>patient_id</th>\n",
       "      <th>HE_path</th>\n",
       "      <th>response</th>\n",
       "    </tr>\n",
       "  </thead>\n",
       "  <tbody>\n",
       "    <tr>\n",
       "      <th>0</th>\n",
       "      <td>patient1</td>\n",
       "      <td>patient1.tif</td>\n",
       "      <td>NR</td>\n",
       "    </tr>\n",
       "    <tr>\n",
       "      <th>1</th>\n",
       "      <td>patient2-2</td>\n",
       "      <td>patient2-2.tif</td>\n",
       "      <td>NR</td>\n",
       "    </tr>\n",
       "    <tr>\n",
       "      <th>2</th>\n",
       "      <td>patient2-1</td>\n",
       "      <td>patient2-1.tif</td>\n",
       "      <td>NR</td>\n",
       "    </tr>\n",
       "    <tr>\n",
       "      <th>3</th>\n",
       "      <td>patient3</td>\n",
       "      <td>patient3.tif</td>\n",
       "      <td>NR</td>\n",
       "    </tr>\n",
       "    <tr>\n",
       "      <th>4</th>\n",
       "      <td>patient4</td>\n",
       "      <td>patient4.tif</td>\n",
       "      <td>NR</td>\n",
       "    </tr>\n",
       "    <tr>\n",
       "      <th>...</th>\n",
       "      <td>...</td>\n",
       "      <td>...</td>\n",
       "      <td>...</td>\n",
       "    </tr>\n",
       "    <tr>\n",
       "      <th>126</th>\n",
       "      <td>patient117</td>\n",
       "      <td>patient117.tif</td>\n",
       "      <td>R</td>\n",
       "    </tr>\n",
       "    <tr>\n",
       "      <th>127</th>\n",
       "      <td>patient118</td>\n",
       "      <td>patient118.tif</td>\n",
       "      <td>NR</td>\n",
       "    </tr>\n",
       "    <tr>\n",
       "      <th>128</th>\n",
       "      <td>patient119</td>\n",
       "      <td>patient119.tif</td>\n",
       "      <td>R</td>\n",
       "    </tr>\n",
       "    <tr>\n",
       "      <th>129</th>\n",
       "      <td>patient120</td>\n",
       "      <td>patient120.jpg</td>\n",
       "      <td>NR</td>\n",
       "    </tr>\n",
       "    <tr>\n",
       "      <th>130</th>\n",
       "      <td>patient121</td>\n",
       "      <td>patient121.tif</td>\n",
       "      <td>NR</td>\n",
       "    </tr>\n",
       "  </tbody>\n",
       "</table>\n",
       "<p>131 rows × 3 columns</p>\n",
       "</div>"
      ],
      "text/plain": [
       "     patient_id         HE_path response\n",
       "0      patient1    patient1.tif       NR\n",
       "1    patient2-2  patient2-2.tif       NR\n",
       "2    patient2-1  patient2-1.tif       NR\n",
       "3      patient3    patient3.tif       NR\n",
       "4      patient4    patient4.tif       NR\n",
       "..          ...             ...      ...\n",
       "126  patient117  patient117.tif        R\n",
       "127  patient118  patient118.tif       NR\n",
       "128  patient119  patient119.tif        R\n",
       "129  patient120  patient120.jpg       NR\n",
       "130  patient121  patient121.tif       NR\n",
       "\n",
       "[131 rows x 3 columns]"
      ]
     },
     "execution_count": 8,
     "metadata": {},
     "output_type": "execute_result"
    }
   ],
   "source": [
    "metadata = pd.read_excel('../resource/HCC_ICB_metadata.xlsx')\n",
    "metadata"
   ]
  },
  {
   "cell_type": "code",
   "execution_count": null,
   "metadata": {},
   "outputs": [],
   "source": [
    "sample_list = metadata['patient_id'].tolist()"
   ]
  },
  {
   "cell_type": "markdown",
   "metadata": {},
   "source": [
    "## Tile"
   ]
  },
  {
   "cell_type": "code",
   "execution_count": null,
   "metadata": {},
   "outputs": [],
   "source": [
    "for index, row in metadata.iterrows():\n",
    "    patient_id = row['patient_id']\n",
    "    HE_path = row['HE_path']\n",
    "    tile_HE(\n",
    "        sample_id = patient_id,\n",
    "        HE_path = HE_path,\n",
    "        out_path = '../HCC_ICB/tiles/',\n",
    "        target_size = 224\n",
    "    )"
   ]
  },
  {
   "cell_type": "markdown",
   "metadata": {},
   "source": [
    "## Feature extraction"
   ]
  },
  {
   "cell_type": "code",
   "execution_count": null,
   "metadata": {},
   "outputs": [],
   "source": [
    "ICB_sample_features = extract_features(\n",
    "                            tile_path = '../output/HCC_ICB/tiles/',\n",
    "                            img_ids = sample_list,\n",
    "                            model_weight_path = '../resource/ctranspath.pth',\n",
    "                            save = True,\n",
    "                            seed = seed,\n",
    "                            file = '../output/features/ICB_sample_features.pkl')"
   ]
  },
  {
   "cell_type": "code",
   "execution_count": null,
   "metadata": {},
   "outputs": [],
   "source": [
    "# # if you have already run wsi_clean_up\n",
    "# ICB_clean_features = extract_features(\n",
    "#                             tile_path = '../output/HCC_ICB/clean_tiles_75/',\n",
    "#                             img_ids = sample_list,\n",
    "#                             model_weight_path = '../resource/ctranspath.pth',\n",
    "#                             save = True,\n",
    "#                             seed = seed,\n",
    "#                             file = '../output/features/ICB_sample_features.pkl')"
   ]
  },
  {
   "cell_type": "markdown",
   "metadata": {},
   "source": [
    "## Get prediction for all samples"
   ]
  },
  {
   "cell_type": "code",
   "execution_count": null,
   "metadata": {},
   "outputs": [],
   "source": [
    "# use HCC based model\n",
    "predict_gene_matrix_list = GetPredictGMList(\n",
    "    sample_list=sample_list,\n",
    "    gene_list=gene_list,\n",
    "    all_sample_features=ICB_sample_features,\n",
    "    model_path='../output/model/tumor/checkpoint_all/xx/200_model.pth',\n",
    "    seed=seed\n",
    ")"
   ]
  },
  {
   "cell_type": "code",
   "execution_count": null,
   "metadata": {},
   "outputs": [],
   "source": [
    "# use HCC based model\n",
    "predict_mask_matrix_list = GetPredictTMList(\n",
    "    sample_list=sample_list,\n",
    "    all_sample_features=ICB_sample_features,\n",
    "    model_path='../output/model/gene/checkpoint_all/xx/200_model.pth',\n",
    "    seed=seed\n",
    ")"
   ]
  },
  {
   "cell_type": "code",
   "execution_count": null,
   "metadata": {},
   "outputs": [],
   "source": [
    "# save results\n",
    "os.makedirs('../output/predict_matrix/',exist_ok=True)\n",
    "with open('../output/predict_matrix/predict_gene_matrix_list.pkl','wb') as f:\n",
    "    pickle.dump(predict_gene_matrix_list,f)\n",
    "with open('../output/predict_matrix/predict_mask_matrix_list.pkl','wb') as f:\n",
    "    pickle.dump(predict_mask_matrix_list,f)"
   ]
  },
  {
   "cell_type": "markdown",
   "metadata": {},
   "source": [
    "## Train"
   ]
  },
  {
   "cell_type": "code",
   "execution_count": null,
   "metadata": {},
   "outputs": [],
   "source": [
    "labels = pd.get_dummies(metadata['response'],dtype = int)\n",
    "labels_tensor = torch.tensor(np.array(labels), dtype=torch.float32)\n",
    "\n",
    "ICBsolver = ICB_Solver(\n",
    "    seed = 22,\n",
    "    num_classes=2,\n",
    "    drop_path_rate=0.4,\n",
    "    depths=[2, 2, 8, 2],\n",
    "    dims=[16, 24, 32, 40],\n",
    "    epochs = 200,\n",
    "    lr = 1e-4,\n",
    "    kfold_seed = 123,\n",
    "    verbose = True\n",
    ")\n",
    "\n",
    "ICBsolver.train_kfold(\n",
    "        labels_tensor=labels_tensor,\n",
    "        gene_matrix_list=predict_gene_matrix_list,\n",
    "        mask_matrix_list=predict_mask_matrix_list,\n",
    "        he_features = ICB_sample_features,\n",
    "        method = 'gene',\n",
    "        kfold_splits = 5,\n",
    "        batch_size = 20,\n",
    "        out_dir = '../output/model/HCC_ICB/checkpoint_5fold/'\n",
    ")"
   ]
  }
 ],
 "metadata": {
  "kernelspec": {
   "display_name": "HiST",
   "language": "python",
   "name": "python3"
  },
  "language_info": {
   "codemirror_mode": {
    "name": "ipython",
    "version": 3
   },
   "file_extension": ".py",
   "mimetype": "text/x-python",
   "name": "python",
   "nbconvert_exporter": "python",
   "pygments_lexer": "ipython3",
   "version": "3.8.18"
  }
 },
 "nbformat": 4,
 "nbformat_minor": 2
}
